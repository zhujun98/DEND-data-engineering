{
 "cells": [
  {
   "cell_type": "markdown",
   "id": "388f587b",
   "metadata": {},
   "source": [
    "**The goal of this Jupyter Notebook is to:**\n",
    "\n",
    "- Identify data quality issues, like missing values, duplicate data, etc.\n",
    "\n",
    "- Formalize the steps to clean the datasets."
   ]
  },
  {
   "cell_type": "code",
   "execution_count": null,
   "id": "936e5830",
   "metadata": {},
   "outputs": [],
   "source": [
    "import os.path as osp\n",
    "\n",
    "import pyspark\n",
    "from pyspark.sql import SparkSession\n",
    "from pyspark.sql.types import (\n",
    "    DoubleType, LongType, StringType, StructField, StructType, TimestampType\n",
    ")\n",
    "from pyspark.sql import functions as F\n",
    "from pyspark.sql.functions import col, udf\n",
    "\n",
    "# !pip3 install matplotlib\n",
    "import matplotlib.pyplot as plt"
   ]
  },
  {
   "cell_type": "code",
   "execution_count": null,
   "id": "2328fac7",
   "metadata": {},
   "outputs": [],
   "source": [
    "spark = SparkSession.builder.appName(\"Sparkify ETL\").getOrCreate()\n",
    "spark"
   ]
  },
  {
   "cell_type": "markdown",
   "id": "06267e3b",
   "metadata": {},
   "source": [
    "## Capital bikeshare trip data\n",
    "\n",
    "![Capital bikeshare system map](./capital_bikeshare_system_map.png)"
   ]
  },
  {
   "cell_type": "code",
   "execution_count": null,
   "id": "8b13abfe",
   "metadata": {},
   "outputs": [],
   "source": [
    "TRIP_DATA_PATH = \"./datasets/capitalbikeshare_tripdata/2020*.csv\""
   ]
  },
  {
   "cell_type": "code",
   "execution_count": null,
   "id": "34a34399",
   "metadata": {
    "tags": []
   },
   "outputs": [],
   "source": [
    "trip_data_schema = StructType([\n",
    "    StructField('ride_id', StringType()),\n",
    "    StructField('rideable_type', StringType()),\n",
    "    StructField('started_at', TimestampType()),\n",
    "    StructField('ended_at', TimestampType()),\n",
    "    StructField('start_station_name', StringType()),\n",
    "    StructField('start_station_id', LongType()),\n",
    "    StructField('end_station_name', StringType()),\n",
    "    StructField('end_station_id', LongType()),\n",
    "    StructField('start_lat', DoubleType()),\n",
    "    StructField('start_lng', DoubleType()),\n",
    "    StructField('end_lat', DoubleType()),\n",
    "    StructField('end_lng', DoubleType()),\n",
    "    StructField('member_casual', StringType())\n",
    "])\n",
    "\n",
    "trip_data = spark.read.csv(TRIP_DATA_PATH, header=True, schema=trip_data_schema)\n",
    "trip_data.show(5)\n",
    "\n",
    "trip_data.printSchema()\n",
    "\n",
    "print(\"Total number records: \", trip_data.count())"
   ]
  },
  {
   "cell_type": "code",
   "execution_count": null,
   "id": "9edb46a1",
   "metadata": {},
   "outputs": [],
   "source": [
    "trip_data.select(F.min(\"start_lng\"), F.max(\"start_lng\")).collect()"
   ]
  },
  {
   "cell_type": "code",
   "execution_count": null,
   "id": "6b171363",
   "metadata": {},
   "outputs": [],
   "source": [
    "trip_data.select(F.min(\"end_lng\"), F.max(\"end_lng\")).collect()"
   ]
  },
  {
   "cell_type": "code",
   "execution_count": null,
   "id": "7e971632",
   "metadata": {},
   "outputs": [],
   "source": [
    "trip_data.select(F.min(\"start_lat\"), F.max(\"start_lat\")).collect()"
   ]
  },
  {
   "cell_type": "code",
   "execution_count": null,
   "id": "85e77f89",
   "metadata": {},
   "outputs": [],
   "source": [
    "trip_data.select(F.min(\"end_lat\"), F.max(\"end_lat\")).collect()"
   ]
  },
  {
   "cell_type": "markdown",
   "id": "29cf001e",
   "metadata": {},
   "source": [
    "## COVID data by states"
   ]
  },
  {
   "cell_type": "code",
   "execution_count": null,
   "id": "8f29406c",
   "metadata": {},
   "outputs": [],
   "source": [
    "COVID_DATA_PATH = \"./datasets/covid_data/daily.csv\""
   ]
  },
  {
   "cell_type": "code",
   "execution_count": null,
   "id": "13ac710f",
   "metadata": {},
   "outputs": [],
   "source": [
    "# We drop the deprecated fields in the first place.\n",
    "covid_data = spark.read.csv(COVID_DATA_PATH, header=True).drop(\n",
    "    \"checkTimeEt\", \"commercialScore\", \"dateChecked\", \"dateModified\", \"grade\", \"hash\", \"hospitalized\", \"negativeIncrease\", \n",
    "    \"negativeRegularScore\", \"negativeScore\", \"posNeg\", \"positiveScore\", \"score\", \"total\"\n",
    ")\n",
    "\n",
    "covid_data.printSchema()\n",
    "\n",
    "print(\"Total number records: \", covid_data.count())"
   ]
  },
  {
   "cell_type": "markdown",
   "id": "b6731253",
   "metadata": {},
   "source": [
    "## Weather data"
   ]
  },
  {
   "cell_type": "code",
   "execution_count": null,
   "id": "6a09a6a6",
   "metadata": {},
   "outputs": [],
   "source": []
  },
  {
   "cell_type": "code",
   "execution_count": null,
   "id": "6f134e3c",
   "metadata": {},
   "outputs": [],
   "source": [
    "from datetime import datetime, date\n",
    "# !pip3 install pandas\n",
    "import pandas as pd\n",
    "from pyspark.sql import Row"
   ]
  },
  {
   "cell_type": "code",
   "execution_count": null,
   "id": "2e616ce0",
   "metadata": {},
   "outputs": [],
   "source": [
    "df = spark.createDataFrame([\n",
    "    Row(a=1, b=2, c='string1', d=date(2000, 1, 1), e=datetime(2000, 1, 1, 12, 0)),\n",
    "    Row(a=2, b=3, c='string2', d=date(2000, 2, 1), e=datetime(2000, 1, 2, 12, 0)),\n",
    "    Row(a=3, b=5, c='string3', d=date(2000, 2, 1), e=datetime(2000, 1, 3, 12, 0))\n",
    "])\n",
    "df"
   ]
  },
  {
   "cell_type": "code",
   "execution_count": null,
   "id": "085eceae",
   "metadata": {},
   "outputs": [],
   "source": [
    "df = spark.createDataFrame([\n",
    "    Row(a=1, b=2., c='string1', d=date(2000, 1, 1), e=datetime(2000, 1, 1, 12, 0)),\n",
    "    Row(a=2, b=3., c='string2', d=date(2000, 2, 1), e=datetime(2000, 1, 2, 12, 0)),\n",
    "    Row(a=3, b=5., c='string3', d=date(2000, 2, 1), e=datetime(2000, 1, 3, 12, 0))\n",
    "], schema='a long, b double, c string, d date, e timestamp')\n",
    "df"
   ]
  },
  {
   "cell_type": "code",
   "execution_count": null,
   "id": "e69041f6",
   "metadata": {},
   "outputs": [],
   "source": [
    "pandas_df = pd.DataFrame({\n",
    "    'a': [1, 2, 3],\n",
    "    'b': [2., 3., 4.],\n",
    "    'c': ['string1', 'string2', 'string3'],\n",
    "    'd': [date(2000, 1, 1), date(2000, 2, 1), date(2000, 3, 1)],\n",
    "    'e': [datetime(2000, 1, 1, 12, 0), datetime(2000, 1, 2, 12, 0), datetime(2000, 1, 3, 12, 0)]\n",
    "})\n",
    "df = spark.createDataFrame(pandas_df)\n",
    "df"
   ]
  },
  {
   "cell_type": "code",
   "execution_count": null,
   "id": "c18e53ab",
   "metadata": {},
   "outputs": [],
   "source": [
    "rdd = spark.sparkContext.parallelize([\n",
    "    (1, 2., 'a', date(2000, 1, 1), datetime(2000, 1, 1, 12, 0)),\n",
    "    (2, 3., 'b', date(2000, 2, 1), datetime(2000, 1, 2, 12, 0)),\n",
    "    (3, 5., 'c', date(2000, 2, 1), datetime(2000, 1, 3, 12, 0))\n",
    "])\n",
    "df = spark.createDataFrame(rdd, schema=['a', 'b', 'c', 'd','e'])\n",
    "df"
   ]
  },
  {
   "cell_type": "code",
   "execution_count": null,
   "id": "14e5f3b2",
   "metadata": {},
   "outputs": [],
   "source": [
    "df.show()"
   ]
  },
  {
   "cell_type": "code",
   "execution_count": null,
   "id": "928dbf7b",
   "metadata": {},
   "outputs": [],
   "source": [
    "df.printSchema()"
   ]
  }
 ],
 "metadata": {
  "kernelspec": {
   "display_name": "Python 3",
   "language": "python",
   "name": "python3"
  },
  "language_info": {
   "codemirror_mode": {
    "name": "ipython",
    "version": 3
   },
   "file_extension": ".py",
   "mimetype": "text/x-python",
   "name": "python",
   "nbconvert_exporter": "python",
   "pygments_lexer": "ipython3",
   "version": "3.7.3"
  }
 },
 "nbformat": 4,
 "nbformat_minor": 5
}
